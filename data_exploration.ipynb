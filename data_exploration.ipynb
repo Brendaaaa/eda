{
 "cells": [
  {
   "cell_type": "code",
   "execution_count": 1,
   "metadata": {},
   "outputs": [],
   "source": [
    "import pandas as pd\n",
    "from matplotlib import pyplot as plt\n",
    "import numpy as np\n",
    "import statistics as s\n",
    "from sklearn.model_selection import RepeatedStratifiedKFold, StratifiedKFold\n",
    "from imblearn.ensemble import BalancedRandomForestClassifier\n",
    "from sklearn.model_selection import GridSearchCV, RandomizedSearchCV\n",
    "from sklearn.model_selection import train_test_split\n",
    "from sklearn.metrics import f1_score, roc_auc_score, precision_recall_fscore_support\n",
    "from math import log\n",
    "import pickle"
   ]
  },
  {
   "cell_type": "markdown",
   "metadata": {},
   "source": [
    "### Overview\n",
    "\n",
    "The goal of the project is to create a method to identify the user Joe using data about user sessions that have been recorded over a period of time."
   ]
  },
  {
   "cell_type": "code",
   "execution_count": 2,
   "metadata": {},
   "outputs": [
    {
     "data": {
      "text/plain": [
       "(80000, 9)"
      ]
     },
     "execution_count": 2,
     "metadata": {},
     "output_type": "execute_result"
    }
   ],
   "source": [
    "df = pd.read_json('dataset.json')\n",
    "# number of entries in the original dataframe\n",
    "n_entries = df.shape[0]\n",
    "df.shape"
   ]
  },
  {
   "cell_type": "code",
   "execution_count": 3,
   "metadata": {},
   "outputs": [
    {
     "data": {
      "text/html": [
       "<div>\n",
       "<style scoped>\n",
       "    .dataframe tbody tr th:only-of-type {\n",
       "        vertical-align: middle;\n",
       "    }\n",
       "\n",
       "    .dataframe tbody tr th {\n",
       "        vertical-align: top;\n",
       "    }\n",
       "\n",
       "    .dataframe thead th {\n",
       "        text-align: right;\n",
       "    }\n",
       "</style>\n",
       "<table border=\"1\" class=\"dataframe\">\n",
       "  <thead>\n",
       "    <tr style=\"text-align: right;\">\n",
       "      <th></th>\n",
       "      <th>browser</th>\n",
       "      <th>os</th>\n",
       "      <th>locale</th>\n",
       "      <th>user_id</th>\n",
       "      <th>gender</th>\n",
       "      <th>location</th>\n",
       "      <th>sites</th>\n",
       "      <th>time</th>\n",
       "      <th>date</th>\n",
       "    </tr>\n",
       "  </thead>\n",
       "  <tbody>\n",
       "    <tr>\n",
       "      <th>0</th>\n",
       "      <td>Firefox</td>\n",
       "      <td>Ubuntu</td>\n",
       "      <td>ru_RU</td>\n",
       "      <td>105</td>\n",
       "      <td>m</td>\n",
       "      <td>USA/Chicago</td>\n",
       "      <td>[{'site': 'mail.google.com', 'length': 50}, {'...</td>\n",
       "      <td>09:03:00</td>\n",
       "      <td>2017-01-08</td>\n",
       "    </tr>\n",
       "    <tr>\n",
       "      <th>1</th>\n",
       "      <td>Firefox</td>\n",
       "      <td>Windows 8</td>\n",
       "      <td>pl-PL</td>\n",
       "      <td>11</td>\n",
       "      <td>m</td>\n",
       "      <td>USA/Chicago</td>\n",
       "      <td>[{'site': 'meduza.org', 'length': 40}, {'site'...</td>\n",
       "      <td>13:57:00</td>\n",
       "      <td>2016-10-05</td>\n",
       "    </tr>\n",
       "    <tr>\n",
       "      <th>2</th>\n",
       "      <td>Chrome</td>\n",
       "      <td>Ubuntu</td>\n",
       "      <td>zh-CN</td>\n",
       "      <td>17</td>\n",
       "      <td>m</td>\n",
       "      <td>Singapore/Singapore</td>\n",
       "      <td>[{'site': 'facebook.net', 'length': 74}, {'sit...</td>\n",
       "      <td>02:06:00</td>\n",
       "      <td>2017-03-28</td>\n",
       "    </tr>\n",
       "    <tr>\n",
       "      <th>3</th>\n",
       "      <td>Chrome</td>\n",
       "      <td>Windows 10</td>\n",
       "      <td>pt-BR</td>\n",
       "      <td>134</td>\n",
       "      <td>f</td>\n",
       "      <td>Australia/Sydney</td>\n",
       "      <td>[{'site': 'verisign.com', 'length': 111}, {'si...</td>\n",
       "      <td>21:49:00</td>\n",
       "      <td>2017-06-25</td>\n",
       "    </tr>\n",
       "    <tr>\n",
       "      <th>4</th>\n",
       "      <td>Firefox</td>\n",
       "      <td>Windows 10</td>\n",
       "      <td>en-SG</td>\n",
       "      <td>92</td>\n",
       "      <td>f</td>\n",
       "      <td>USA/Chicago</td>\n",
       "      <td>[{'site': 'live.com', 'length': 79}, {'site': ...</td>\n",
       "      <td>00:05:00</td>\n",
       "      <td>2016-02-10</td>\n",
       "    </tr>\n",
       "  </tbody>\n",
       "</table>\n",
       "</div>"
      ],
      "text/plain": [
       "   browser          os locale  user_id gender             location  \\\n",
       "0  Firefox      Ubuntu  ru_RU      105      m          USA/Chicago   \n",
       "1  Firefox   Windows 8  pl-PL       11      m          USA/Chicago   \n",
       "2   Chrome      Ubuntu  zh-CN       17      m  Singapore/Singapore   \n",
       "3   Chrome  Windows 10  pt-BR      134      f     Australia/Sydney   \n",
       "4  Firefox  Windows 10  en-SG       92      f          USA/Chicago   \n",
       "\n",
       "                                               sites      time       date  \n",
       "0  [{'site': 'mail.google.com', 'length': 50}, {'...  09:03:00 2017-01-08  \n",
       "1  [{'site': 'meduza.org', 'length': 40}, {'site'...  13:57:00 2016-10-05  \n",
       "2  [{'site': 'facebook.net', 'length': 74}, {'sit...  02:06:00 2017-03-28  \n",
       "3  [{'site': 'verisign.com', 'length': 111}, {'si...  21:49:00 2017-06-25  \n",
       "4  [{'site': 'live.com', 'length': 79}, {'site': ...  00:05:00 2016-02-10  "
      ]
     },
     "execution_count": 3,
     "metadata": {},
     "output_type": "execute_result"
    }
   ],
   "source": [
    "df.head()"
   ]
  },
  {
   "cell_type": "markdown",
   "metadata": {},
   "source": [
    "### Auxiliary Functions\n",
    "\n",
    "Functions to facilitate data process ahead"
   ]
  },
  {
   "cell_type": "code",
   "execution_count": 4,
   "metadata": {},
   "outputs": [],
   "source": [
    "def plot_classes_diff(pos, neg, key):\n",
    "    '''\n",
    "    Plot one pie chart per class.\n",
    "    \n",
    "            Parameters:\n",
    "                    pos (tuple): list of labels and values of each session of the pie chart for positive class\n",
    "                    neg (tuple): list of labels and values of each session of the pie chart for negative class\n",
    "                    key (str): name of the field being compared\n",
    "    '''\n",
    "    \n",
    "    fig, (ax1, ax2) = plt.subplots(1, 2)\n",
    "    fig.suptitle('Comparison: positive vs negative class - {}'.format(key))\n",
    "    \n",
    "    l, v = pos\n",
    "    ax1.pie(v, labels=l, autopct='%1.1f%%', shadow=True)\n",
    "\n",
    "    l, v = neg\n",
    "    ax2.pie(v, labels=l, autopct='%1.1f%%', shadow=True)\n",
    "\n",
    "    plt.show()"
   ]
  },
  {
   "cell_type": "code",
   "execution_count": 5,
   "metadata": {},
   "outputs": [],
   "source": [
    "def describe_field(df, key):\n",
    "    '''\n",
    "    Prints the values for field given by 'key' and the number of unique values in the dataframe 'df'\n",
    "    \n",
    "            Parameters:\n",
    "                    df (DataFrame): DataFrame with the data to be described\n",
    "                    key (str): field being evaluated\n",
    "    '''\n",
    "    n = df[key].nunique()\n",
    "    values = df[key].unique()\n",
    "    \n",
    "    print(\"{}:\\n\\n\\t- {} elements\\n\\t- {}\\n\".format(key, n, sorted(values)))"
   ]
  },
  {
   "cell_type": "code",
   "execution_count": 6,
   "metadata": {},
   "outputs": [],
   "source": [
    "def mode_f(v):\n",
    "    '''\n",
    "    Returns mode of a list of values. If there is no mode, returns median\n",
    "    \n",
    "            Parameters:\n",
    "                    v (list): list of values\n",
    "            Returns:\n",
    "                    mode_v (float): Mode of v\n",
    "    '''\n",
    "    try:\n",
    "        mode_v = s.mode(v)\n",
    "    except s.StatisticsError:\n",
    "        mode_v = s.median(v)\n",
    "    return mode_v"
   ]
  },
  {
   "cell_type": "code",
   "execution_count": 7,
   "metadata": {},
   "outputs": [],
   "source": [
    "def get_stats(df, suffix): \n",
    "    '''\n",
    "    Returns dataframemode of a list of values. If there is no mode, returns median\n",
    "    \n",
    "            Parameters:\n",
    "                    df (DataFrame): Dataframe with the data to calculate the statistics\n",
    "                    suffix (str): suffix will be added to the name of the fields generated fy this function\n",
    "            Returns:\n",
    "                    df_stats (DataFrame): Dataframe with the statistics\n",
    "    '''\n",
    "    \n",
    "    # get stats\n",
    "    df_stats = df.groupby('index').agg({'perc_length': 'sum',\n",
    "                                        'length': ['size','mean', 'min', 'max', 'median', mode_f, 'std']})\n",
    "    df_stats.columns = df_stats.columns.droplevel()\n",
    "\n",
    "    # get the 'mean', 'min', 'median' and 'mode_f' as a percentage of the max_value, in order to comapare with other users\n",
    "    for c in ['mean', 'min', 'median', 'mode_f']:\n",
    "        df_stats[c+'_perc_t'] = df_stats[c].div(df_stats['max'])\n",
    "\n",
    "    # gives std as a percentage of the avg\n",
    "    df_stats['std_perc_avg'] = df_stats['std'].div(df_stats['mean'])\n",
    "    \n",
    "    # add suffix to variables to diffentiate from other stats\n",
    "    df_stats = df_stats.add_suffix(suffix).reset_index().fillna(0)\n",
    "    \n",
    "    return df_stats"
   ]
  },
  {
   "cell_type": "markdown",
   "metadata": {},
   "source": [
    "### Exploratory Data Analysis\n",
    "\n",
    "In this session the dataset is explored to see how the information here can be used to create a model that predicts Joe's sessions."
   ]
  },
  {
   "cell_type": "markdown",
   "metadata": {},
   "source": [
    "#### Adding column with target label: isJoe\n",
    "\n",
    "Boolean to indicate if is Joe or not"
   ]
  },
  {
   "cell_type": "code",
   "execution_count": 8,
   "metadata": {},
   "outputs": [],
   "source": [
    "df['isJoe'] = (df['user_id'] == 0)"
   ]
  },
  {
   "cell_type": "markdown",
   "metadata": {},
   "source": [
    "#### Creating unique id\n",
    "The user_id is not relevant, since we are just interested in finding Joe. For that reason we need to create an id for each entry\n",
    "\n",
    "> from now on 'index' will be used to identify an entry"
   ]
  },
  {
   "cell_type": "code",
   "execution_count": 9,
   "metadata": {},
   "outputs": [],
   "source": [
    "df.reset_index(inplace=True)"
   ]
  },
  {
   "cell_type": "markdown",
   "metadata": {},
   "source": [
    "#### Extracting hour information from 'time'"
   ]
  },
  {
   "cell_type": "markdown",
   "metadata": {},
   "source": [
    "> the information of the hour in which the user accessed the system might be useful, the minutes and seconds not as much"
   ]
  },
  {
   "cell_type": "code",
   "execution_count": 10,
   "metadata": {},
   "outputs": [],
   "source": [
    "df['hour'] = df['time'].str.split(\":\",expand=True)[0].astype('int')"
   ]
  },
  {
   "cell_type": "markdown",
   "metadata": {},
   "source": [
    "#### Getting country and city information from location\n",
    "\n",
    "> Generates a column with the Country and another with the city in which the session occcured"
   ]
  },
  {
   "cell_type": "code",
   "execution_count": 11,
   "metadata": {},
   "outputs": [],
   "source": [
    "df[['Country', 'City']] = df['location'].str.split(\"/\",expand=True,)"
   ]
  },
  {
   "cell_type": "markdown",
   "metadata": {},
   "source": [
    "#### Creating dataframe with sites information\n",
    "\n",
    "> Unpacking sites information creating a data frame with id, site visited and length."
   ]
  },
  {
   "cell_type": "code",
   "execution_count": 12,
   "metadata": {},
   "outputs": [],
   "source": [
    "sites_df_list = []\n",
    "for row in df.index:\n",
    "    sites_list = df.loc[row, 'sites']\n",
    "\n",
    "    for element in sites_list:\n",
    "        site = element['site']\n",
    "        length = element['length']\n",
    "        sites_df_list.append([row, site, length])\n",
    "\n",
    "sites_df = pd.DataFrame(sites_df_list, columns=['index', 'site', 'length'])\n",
    "df.fillna(0, inplace=True)"
   ]
  },
  {
   "cell_type": "markdown",
   "metadata": {},
   "source": [
    "#### Dropping not useful information\n",
    "\n",
    "> user_id, time (we now have hour information), date, location (we now have city and country information)\n",
    "\n",
    "\n",
    "Because we are only interested in determining if the user is Joe or not, the user_id is not relevant. From the 'time' field we already extracted the useful information (the hour), from location field country and city were extracted. The date is not relevant, because we want to use the pattern of the user to identify Joe. So these columns are not necessary anymore."
   ]
  },
  {
   "cell_type": "code",
   "execution_count": 15,
   "metadata": {},
   "outputs": [],
   "source": [
    "df.drop(columns=['user_id', 'time', 'date', 'location'], inplace = True)"
   ]
  },
  {
   "cell_type": "markdown",
   "metadata": {},
   "source": [
    "####  Checking distribution of classes\n",
    "\n",
    "> Classes are not balanced: negative class represents 99.5% of the data and positive class 0.5%"
   ]
  },
  {
   "cell_type": "code",
   "execution_count": 16,
   "metadata": {},
   "outputs": [
    {
     "data": {
      "text/plain": [
       "([<matplotlib.patches.Wedge at 0x121e701d0>,\n",
       "  <matplotlib.patches.Wedge at 0x121e69510>],\n",
       " [Text(-1.0998642959886566, 0.01727803256672655, 'notJoe'),\n",
       "  Text(1.09986429624142, -0.017278016476613336, 'isJoe')],\n",
       " [Text(-0.5999259796301762, 0.009424381400032662, '99.5%'),\n",
       "  Text(0.5999259797680472, -0.009424372623607272, '0.5%')])"
      ]
     },
     "execution_count": 16,
     "metadata": {},
     "output_type": "execute_result"
    },
    {
     "data": {
      "image/png": "[encoded data removed]",
      "text/plain": [
       "<Figure size 432x288 with 1 Axes>"
      ]
     },
     "metadata": {},
     "output_type": "display_data"
    }
   ],
   "source": [
    "plt.pie(list(100*df.groupby('isJoe').size()/n_entries), labels=['notJoe', 'isJoe'], autopct='%1.1f%%', shadow=True)"
   ]
  },
  {
   "cell_type": "markdown",
   "metadata": {},
   "source": [
    "##### Separating classes for comparisons\n",
    "\n",
    "> **pos** dataframe has positive class data and **neg** the negative class data."
   ]
  },
  {
   "cell_type": "code",
   "execution_count": 17,
   "metadata": {},
   "outputs": [],
   "source": [
    "pos = df[df['isJoe'] == True].set_index('index')\n",
    "n_pos_entries = pos.shape[0]\n",
    "\n",
    "neg = df[df['isJoe'] == False].set_index('index')\n",
    "n_neg_entries = neg.shape[0]"
   ]
  },
  {
   "cell_type": "markdown",
   "metadata": {},
   "source": [
    "#### Comparing classes\n",
    "\n",
    "> Left plot shows the information for positive class and right one for the negative class. Information about the field is also presented: the unique elements for each field and how many unique elements there are"
   ]
  },
  {
   "cell_type": "code",
   "execution_count": 18,
   "metadata": {},
   "outputs": [
    {
     "name": "stdout",
     "output_type": "stream",
     "text": [
      "browser:\n",
      "\n",
      "\t- 4 elements\n",
      "\t- ['Chrome', 'Firefox', 'Internet Explorer', 'Safari']\n",
      "\n"
     ]
    },
    {
     "data": {
      "image/png": "[encoded data removed]",
      "text/plain": [
       "<Figure size 432x288 with 2 Axes>"
      ]
     },
     "metadata": {},
     "output_type": "display_data"
    },
    {
     "name": "stdout",
     "output_type": "stream",
     "text": [
      "os:\n",
      "\n",
      "\t- 6 elements\n",
      "\t- ['Debian', 'MacOS', 'Ubuntu', 'Windows 10', 'Windows 7', 'Windows 8']\n",
      "\n"
     ]
    },
    {
     "data": {
      "image/png": "[encoded data removed]",
      "text/plain": [
       "<Figure size 432x288 with 2 Axes>"
      ]
     },
     "metadata": {},
     "output_type": "display_data"
    },
    {
     "name": "stdout",
     "output_type": "stream",
     "text": [
      "locale:\n",
      "\n",
      "\t- 25 elements\n",
      "\t- ['bg-BG', 'de-DE', 'en-AU', 'en-CA', 'en-GB', 'en-NZ', 'en-SG', 'en-US', 'es-MX', 'fr-FR', 'it-IT', 'ja-JP', 'nl-NL', 'pl-PL', 'pt-BR', 'pt-PT', 'ro-RO', 'ru-RU', 'ru_RU', 'uk-UA', 'ur-PK', 'vi-VN', 'wo-SN', 'xh-ZA', 'zh-CN']\n",
      "\n"
     ]
    },
    {
     "data": {
      "image/png": "[encoded data removed]",
      "text/plain": [
       "<Figure size 432x288 with 2 Axes>"
      ]
     },
     "metadata": {},
     "output_type": "display_data"
    },
    {
     "name": "stdout",
     "output_type": "stream",
     "text": [
      "hour:\n",
      "\n",
      "\t- 24 elements\n",
      "\t- [0, 1, 2, 3, 4, 5, 6, 7, 8, 9, 10, 11, 12, 13, 14, 15, 16, 17, 18, 19, 20, 21, 22, 23]\n",
      "\n"
     ]
    },
    {
     "data": {
      "image/png": "[encoded data removed]",
      "text/plain": [
       "<Figure size 432x288 with 2 Axes>"
      ]
     },
     "metadata": {},
     "output_type": "display_data"
    },
    {
     "name": "stdout",
     "output_type": "stream",
     "text": [
      "gender:\n",
      "\n",
      "\t- 2 elements\n",
      "\t- ['f', 'm']\n",
      "\n"
     ]
    },
    {
     "data": {
      "image/png": "[encoded data removed]",
      "text/plain": [
       "<Figure size 432x288 with 2 Axes>"
      ]
     },
     "metadata": {},
     "output_type": "display_data"
    },
    {
     "name": "stdout",
     "output_type": "stream",
     "text": [
      "Country:\n",
      "\n",
      "\t- 17 elements\n",
      "\t- ['Australia', 'Brazil', 'Canada', 'China', 'France', 'Germany', 'India', 'Italy', 'Japan', 'Malaysia', 'Netherlands', 'New Zealand', 'Russia', 'Singapore', 'Spain', 'UK', 'USA']\n",
      "\n"
     ]
    },
    {
     "data": {
      "image/png": "[encoded data removed]",
      "text/plain": [
       "<Figure size 432x288 with 2 Axes>"
      ]
     },
     "metadata": {},
     "output_type": "display_data"
    },
    {
     "name": "stdout",
     "output_type": "stream",
     "text": [
      "City:\n",
      "\n",
      "\t- 21 elements\n",
      "\t- ['Amsterdam', 'Auckland', 'Berlin', 'Chicago', 'Delhi', 'Kuala Lumpur', 'London', 'Madrid', 'Miami', 'Moscow', 'New York', 'Paris', 'Rio de Janeiro', 'Rome', 'San Francisco', 'Shanghai', 'Singapore', 'Sydney', 'Tokyo', 'Toronto', 'Vancouver']\n",
      "\n"
     ]
    },
    {
     "data": {
      "image/png": "[encoded data removed]",
      "text/plain": [
       "<Figure size 432x288 with 2 Axes>"
      ]
     },
     "metadata": {},
     "output_type": "display_data"
    }
   ],
   "source": [
    "for key in ['browser', 'os', 'locale', 'hour', 'gender', 'Country', 'City']:\n",
    "    describe_field(df, key)\n",
    "    \n",
    "    pos_values = pos.groupby(key).size().reset_index().to_numpy()\n",
    "    neg_values = neg.groupby(key).size().reset_index().to_numpy()\n",
    "    \n",
    "    positive = [i[0] for i in pos_values], [i[1] for i in pos_values]\n",
    "    negative = [i[0] for i in neg_values], [i[1] for i in neg_values]\n",
    "\n",
    "    plot_classes_diff(positive, negative, key)"
   ]
  },
  {
   "cell_type": "markdown",
   "metadata": {},
   "source": [
    "> - **Browser**: there are 4 browsers in the dataset. Joe uses only 2: Chrome and Firefox. The other users also utilize these browsers a lot, but they also use Safari and IE\n",
    "> - **OS**     : there are 6 browsers in the dataset. Joe uses only 2: Ubuntu and Windows 10. The majority of the other users utilize Windows 10\n",
    "> - **Locale** : Joe only uses ru_RU;\n",
    "> - **Hour**   : Joe uses the internet usually in ealry morning (1-3), at the end of the morning (10, 11), in the evening (16 - 20); other users;\n",
    "> - **Gender**  : 100% of the times Joe accessed the internet the gender information was 'male';\n",
    "> - **Country** : there are 17 countries, Joe has acessed from 3 different countries\n",
    "> - **City**    : there are 21 cities, Joe has been in 3"
   ]
  },
  {
   "cell_type": "markdown",
   "metadata": {},
   "source": [
    "#### Sites_ranked\n",
    "\n",
    "> Ranking sites to identify the popular ones"
   ]
  },
  {
   "cell_type": "code",
   "execution_count": 19,
   "metadata": {},
   "outputs": [
    {
     "data": {
      "text/html": [
       "<div>\n",
       "<style scoped>\n",
       "    .dataframe tbody tr th:only-of-type {\n",
       "        vertical-align: middle;\n",
       "    }\n",
       "\n",
       "    .dataframe tbody tr th {\n",
       "        vertical-align: top;\n",
       "    }\n",
       "\n",
       "    .dataframe thead th {\n",
       "        text-align: right;\n",
       "    }\n",
       "</style>\n",
       "<table border=\"1\" class=\"dataframe\">\n",
       "  <thead>\n",
       "    <tr style=\"text-align: right;\">\n",
       "      <th></th>\n",
       "      <th>site</th>\n",
       "      <th>0</th>\n",
       "      <th>perc</th>\n",
       "    </tr>\n",
       "  </thead>\n",
       "  <tbody>\n",
       "    <tr>\n",
       "      <th>11011</th>\n",
       "      <td>youtube.com</td>\n",
       "      <td>28970</td>\n",
       "      <td>36.21250</td>\n",
       "    </tr>\n",
       "    <tr>\n",
       "      <th>9722</th>\n",
       "      <td>toptal.com</td>\n",
       "      <td>21929</td>\n",
       "      <td>27.41125</td>\n",
       "    </tr>\n",
       "    <tr>\n",
       "      <th>8899</th>\n",
       "      <td>slack.com</td>\n",
       "      <td>21508</td>\n",
       "      <td>26.88500</td>\n",
       "    </tr>\n",
       "    <tr>\n",
       "      <th>5724</th>\n",
       "      <td>lenta.ru</td>\n",
       "      <td>18483</td>\n",
       "      <td>23.10375</td>\n",
       "    </tr>\n",
       "    <tr>\n",
       "      <th>10457</th>\n",
       "      <td>vk.com</td>\n",
       "      <td>17507</td>\n",
       "      <td>21.88375</td>\n",
       "    </tr>\n",
       "    <tr>\n",
       "      <th>6148</th>\n",
       "      <td>mail.google.com</td>\n",
       "      <td>15990</td>\n",
       "      <td>19.98750</td>\n",
       "    </tr>\n",
       "    <tr>\n",
       "      <th>7376</th>\n",
       "      <td>oracle.com</td>\n",
       "      <td>10532</td>\n",
       "      <td>13.16500</td>\n",
       "    </tr>\n",
       "    <tr>\n",
       "      <th>10720</th>\n",
       "      <td>wikimedia.org</td>\n",
       "      <td>10521</td>\n",
       "      <td>13.15125</td>\n",
       "    </tr>\n",
       "    <tr>\n",
       "      <th>4192</th>\n",
       "      <td>googleapis.com</td>\n",
       "      <td>9437</td>\n",
       "      <td>11.79625</td>\n",
       "    </tr>\n",
       "    <tr>\n",
       "      <th>10404</th>\n",
       "      <td>vimeo.com</td>\n",
       "      <td>9055</td>\n",
       "      <td>11.31875</td>\n",
       "    </tr>\n",
       "  </tbody>\n",
       "</table>\n",
       "</div>"
      ],
      "text/plain": [
       "                  site      0      perc\n",
       "11011      youtube.com  28970  36.21250\n",
       "9722        toptal.com  21929  27.41125\n",
       "8899         slack.com  21508  26.88500\n",
       "5724          lenta.ru  18483  23.10375\n",
       "10457           vk.com  17507  21.88375\n",
       "6148   mail.google.com  15990  19.98750\n",
       "7376        oracle.com  10532  13.16500\n",
       "10720    wikimedia.org  10521  13.15125\n",
       "4192    googleapis.com   9437  11.79625\n",
       "10404        vimeo.com   9055  11.31875"
      ]
     },
     "execution_count": 19,
     "metadata": {},
     "output_type": "execute_result"
    }
   ],
   "source": [
    "# top 10 popular websites\n",
    "sites_ranked = sites_df.groupby(['site']).size().reset_index().sort_values(0, ascending=False)\n",
    "sites_ranked['perc'] = sites_ranked[0]*100/n_entries\n",
    "sites_ranked.iloc[:10]"
   ]
  },
  {
   "cell_type": "markdown",
   "metadata": {},
   "source": [
    "##### Classification of websites\n",
    "> top (present in more than 10% of the sesssions), medium (it appeared between 5% and 10% of the sessions) and rare (it appeared in less than 5% of the sessions)\n"
   ]
  },
  {
   "cell_type": "code",
   "execution_count": 20,
   "metadata": {},
   "outputs": [],
   "source": [
    "sites_ranked['top_sites']  = sites_ranked['perc'] > 10\n",
    "sites_ranked['med_sites']  = sites_ranked['perc'].between(5, 10)\n",
    "sites_ranked['rare_sites'] = sites_ranked['perc'] < 5"
   ]
  },
  {
   "cell_type": "code",
   "execution_count": 21,
   "metadata": {},
   "outputs": [],
   "source": [
    "# saving sites classification for sites, because it will be used afterwards for prediction\n",
    "sites_ranked[(sites_ranked['perc'] >= 5)][['site', 'top_sites', 'med_sites']].to_csv('sites_classification.csv', index=False)"
   ]
  },
  {
   "cell_type": "code",
   "execution_count": 22,
   "metadata": {},
   "outputs": [
    {
     "data": {
      "text/html": [
       "<div>\n",
       "<style scoped>\n",
       "    .dataframe tbody tr th:only-of-type {\n",
       "        vertical-align: middle;\n",
       "    }\n",
       "\n",
       "    .dataframe tbody tr th {\n",
       "        vertical-align: top;\n",
       "    }\n",
       "\n",
       "    .dataframe thead th {\n",
       "        text-align: right;\n",
       "    }\n",
       "</style>\n",
       "<table border=\"1\" class=\"dataframe\">\n",
       "  <thead>\n",
       "    <tr style=\"text-align: right;\">\n",
       "      <th></th>\n",
       "      <th>site</th>\n",
       "      <th>0</th>\n",
       "      <th>perc</th>\n",
       "      <th>top_sites</th>\n",
       "      <th>med_sites</th>\n",
       "      <th>rare_sites</th>\n",
       "    </tr>\n",
       "  </thead>\n",
       "  <tbody>\n",
       "    <tr>\n",
       "      <th>11011</th>\n",
       "      <td>youtube.com</td>\n",
       "      <td>28970</td>\n",
       "      <td>36.21250</td>\n",
       "      <td>True</td>\n",
       "      <td>False</td>\n",
       "      <td>False</td>\n",
       "    </tr>\n",
       "    <tr>\n",
       "      <th>9722</th>\n",
       "      <td>toptal.com</td>\n",
       "      <td>21929</td>\n",
       "      <td>27.41125</td>\n",
       "      <td>True</td>\n",
       "      <td>False</td>\n",
       "      <td>False</td>\n",
       "    </tr>\n",
       "    <tr>\n",
       "      <th>8899</th>\n",
       "      <td>slack.com</td>\n",
       "      <td>21508</td>\n",
       "      <td>26.88500</td>\n",
       "      <td>True</td>\n",
       "      <td>False</td>\n",
       "      <td>False</td>\n",
       "    </tr>\n",
       "  </tbody>\n",
       "</table>\n",
       "</div>"
      ],
      "text/plain": [
       "              site      0      perc  top_sites  med_sites  rare_sites\n",
       "11011  youtube.com  28970  36.21250       True      False       False\n",
       "9722    toptal.com  21929  27.41125       True      False       False\n",
       "8899     slack.com  21508  26.88500       True      False       False"
      ]
     },
     "execution_count": 22,
     "metadata": {},
     "output_type": "execute_result"
    }
   ],
   "source": [
    "sites_ranked.head(3)"
   ]
  },
  {
   "cell_type": "markdown",
   "metadata": {},
   "source": [
    "##### percentage of the time spent in each website\n",
    "\n",
    "> It could be useful to determine which type of content the users spend more time in"
   ]
  },
  {
   "cell_type": "code",
   "execution_count": 23,
   "metadata": {},
   "outputs": [
    {
     "data": {
      "text/html": [
       "<div>\n",
       "<style scoped>\n",
       "    .dataframe tbody tr th:only-of-type {\n",
       "        vertical-align: middle;\n",
       "    }\n",
       "\n",
       "    .dataframe tbody tr th {\n",
       "        vertical-align: top;\n",
       "    }\n",
       "\n",
       "    .dataframe thead th {\n",
       "        text-align: right;\n",
       "    }\n",
       "</style>\n",
       "<table border=\"1\" class=\"dataframe\">\n",
       "  <thead>\n",
       "    <tr style=\"text-align: right;\">\n",
       "      <th></th>\n",
       "      <th>index</th>\n",
       "      <th>site</th>\n",
       "      <th>length</th>\n",
       "      <th>total</th>\n",
       "      <th>perc_length</th>\n",
       "    </tr>\n",
       "  </thead>\n",
       "  <tbody>\n",
       "    <tr>\n",
       "      <th>0</th>\n",
       "      <td>0</td>\n",
       "      <td>mail.google.com</td>\n",
       "      <td>50</td>\n",
       "      <td>481</td>\n",
       "      <td>10.395010</td>\n",
       "    </tr>\n",
       "    <tr>\n",
       "      <th>1</th>\n",
       "      <td>0</td>\n",
       "      <td>toptal.com</td>\n",
       "      <td>132</td>\n",
       "      <td>481</td>\n",
       "      <td>27.442827</td>\n",
       "    </tr>\n",
       "    <tr>\n",
       "      <th>2</th>\n",
       "      <td>0</td>\n",
       "      <td>slack.com</td>\n",
       "      <td>65</td>\n",
       "      <td>481</td>\n",
       "      <td>13.513514</td>\n",
       "    </tr>\n",
       "  </tbody>\n",
       "</table>\n",
       "</div>"
      ],
      "text/plain": [
       "   index             site  length  total  perc_length\n",
       "0      0  mail.google.com      50    481    10.395010\n",
       "1      0       toptal.com     132    481    27.442827\n",
       "2      0        slack.com      65    481    13.513514"
      ]
     },
     "execution_count": 23,
     "metadata": {},
     "output_type": "execute_result"
    }
   ],
   "source": [
    "sites_length_total = sites_df.groupby('index').agg({'length': 'sum'}).reset_index().rename(columns={'length': 'total'})\n",
    "sites_df = sites_df.merge(sites_length_total, on='index', how='inner')\n",
    "sites_df['perc_length'] = sites_df['length'].div(sites_df['total']) * 100\n",
    "sites_df.head(3)"
   ]
  },
  {
   "cell_type": "markdown",
   "metadata": {},
   "source": [
    "#### Behavior statistics\n",
    "\n",
    "> per each id we have the percentage of the session spent on the website and an indication of the website type it was (popular, medium, rare). With that information is possible to calculate statistics about the behavior of the user"
   ]
  },
  {
   "cell_type": "code",
   "execution_count": 24,
   "metadata": {},
   "outputs": [
    {
     "data": {
      "text/html": [
       "<div>\n",
       "<style scoped>\n",
       "    .dataframe tbody tr th:only-of-type {\n",
       "        vertical-align: middle;\n",
       "    }\n",
       "\n",
       "    .dataframe tbody tr th {\n",
       "        vertical-align: top;\n",
       "    }\n",
       "\n",
       "    .dataframe thead th {\n",
       "        text-align: right;\n",
       "    }\n",
       "</style>\n",
       "<table border=\"1\" class=\"dataframe\">\n",
       "  <thead>\n",
       "    <tr style=\"text-align: right;\">\n",
       "      <th></th>\n",
       "      <th>index</th>\n",
       "      <th>site</th>\n",
       "      <th>length</th>\n",
       "      <th>total</th>\n",
       "      <th>perc_length</th>\n",
       "      <th>top_sites</th>\n",
       "      <th>med_sites</th>\n",
       "      <th>rare_sites</th>\n",
       "    </tr>\n",
       "  </thead>\n",
       "  <tbody>\n",
       "    <tr>\n",
       "      <th>0</th>\n",
       "      <td>0</td>\n",
       "      <td>mail.google.com</td>\n",
       "      <td>50</td>\n",
       "      <td>481</td>\n",
       "      <td>10.395010</td>\n",
       "      <td>True</td>\n",
       "      <td>False</td>\n",
       "      <td>False</td>\n",
       "    </tr>\n",
       "    <tr>\n",
       "      <th>1</th>\n",
       "      <td>17</td>\n",
       "      <td>mail.google.com</td>\n",
       "      <td>330</td>\n",
       "      <td>1890</td>\n",
       "      <td>17.460317</td>\n",
       "      <td>True</td>\n",
       "      <td>False</td>\n",
       "      <td>False</td>\n",
       "    </tr>\n",
       "    <tr>\n",
       "      <th>2</th>\n",
       "      <td>22</td>\n",
       "      <td>mail.google.com</td>\n",
       "      <td>144</td>\n",
       "      <td>1128</td>\n",
       "      <td>12.765957</td>\n",
       "      <td>True</td>\n",
       "      <td>False</td>\n",
       "      <td>False</td>\n",
       "    </tr>\n",
       "  </tbody>\n",
       "</table>\n",
       "</div>"
      ],
      "text/plain": [
       "   index             site  length  total  perc_length  top_sites  med_sites  \\\n",
       "0      0  mail.google.com      50    481    10.395010       True      False   \n",
       "1     17  mail.google.com     330   1890    17.460317       True      False   \n",
       "2     22  mail.google.com     144   1128    12.765957       True      False   \n",
       "\n",
       "   rare_sites  \n",
       "0       False  \n",
       "1       False  \n",
       "2       False  "
      ]
     },
     "execution_count": 24,
     "metadata": {},
     "output_type": "execute_result"
    }
   ],
   "source": [
    "sites_df = sites_df.merge(sites_ranked.drop(columns=[0, 'perc']), on=['site'], how='inner')\n",
    "sites_df.head(3)"
   ]
  },
  {
   "cell_type": "markdown",
   "metadata": {},
   "source": [
    "> getting statistics of session as whole and the caracteristics of the behavior in top websites, medium and rare"
   ]
  },
  {
   "cell_type": "code",
   "execution_count": 25,
   "metadata": {},
   "outputs": [
    {
     "data": {
      "text/html": [
       "<div>\n",
       "<style scoped>\n",
       "    .dataframe tbody tr th:only-of-type {\n",
       "        vertical-align: middle;\n",
       "    }\n",
       "\n",
       "    .dataframe tbody tr th {\n",
       "        vertical-align: top;\n",
       "    }\n",
       "\n",
       "    .dataframe thead th {\n",
       "        text-align: right;\n",
       "    }\n",
       "</style>\n",
       "<table border=\"1\" class=\"dataframe\">\n",
       "  <thead>\n",
       "    <tr style=\"text-align: right;\">\n",
       "      <th></th>\n",
       "      <th>index</th>\n",
       "      <th>sum_top</th>\n",
       "      <th>size_top</th>\n",
       "      <th>mean_top</th>\n",
       "      <th>min_top</th>\n",
       "      <th>max_top</th>\n",
       "      <th>median_top</th>\n",
       "      <th>mode_f_top</th>\n",
       "      <th>std_top</th>\n",
       "      <th>mean_perc_t_top</th>\n",
       "      <th>...</th>\n",
       "      <th>min_all</th>\n",
       "      <th>max_all</th>\n",
       "      <th>median_all</th>\n",
       "      <th>mode_f_all</th>\n",
       "      <th>std_all</th>\n",
       "      <th>mean_perc_t_all</th>\n",
       "      <th>min_perc_t_all</th>\n",
       "      <th>median_perc_t_all</th>\n",
       "      <th>mode_f_perc_t_all</th>\n",
       "      <th>std_perc_avg_all</th>\n",
       "    </tr>\n",
       "  </thead>\n",
       "  <tbody>\n",
       "    <tr>\n",
       "      <th>0</th>\n",
       "      <td>0</td>\n",
       "      <td>77.546778</td>\n",
       "      <td>5.0</td>\n",
       "      <td>74.6</td>\n",
       "      <td>50.0</td>\n",
       "      <td>132.0</td>\n",
       "      <td>65.0</td>\n",
       "      <td>65.0</td>\n",
       "      <td>32.761258</td>\n",
       "      <td>0.565152</td>\n",
       "      <td>...</td>\n",
       "      <td>50.0</td>\n",
       "      <td>132.0</td>\n",
       "      <td>66.0</td>\n",
       "      <td>66.0</td>\n",
       "      <td>32.319757</td>\n",
       "      <td>0.607323</td>\n",
       "      <td>0.378788</td>\n",
       "      <td>0.500000</td>\n",
       "      <td>0.500000</td>\n",
       "      <td>0.403157</td>\n",
       "    </tr>\n",
       "    <tr>\n",
       "      <th>1</th>\n",
       "      <td>1</td>\n",
       "      <td>18.773234</td>\n",
       "      <td>1.0</td>\n",
       "      <td>202.0</td>\n",
       "      <td>202.0</td>\n",
       "      <td>202.0</td>\n",
       "      <td>202.0</td>\n",
       "      <td>202.0</td>\n",
       "      <td>0.000000</td>\n",
       "      <td>1.000000</td>\n",
       "      <td>...</td>\n",
       "      <td>40.0</td>\n",
       "      <td>269.0</td>\n",
       "      <td>109.0</td>\n",
       "      <td>109.0</td>\n",
       "      <td>76.059370</td>\n",
       "      <td>0.444444</td>\n",
       "      <td>0.148699</td>\n",
       "      <td>0.405204</td>\n",
       "      <td>0.405204</td>\n",
       "      <td>0.636184</td>\n",
       "    </tr>\n",
       "    <tr>\n",
       "      <th>2</th>\n",
       "      <td>2</td>\n",
       "      <td>8.515625</td>\n",
       "      <td>1.0</td>\n",
       "      <td>109.0</td>\n",
       "      <td>109.0</td>\n",
       "      <td>109.0</td>\n",
       "      <td>109.0</td>\n",
       "      <td>109.0</td>\n",
       "      <td>0.000000</td>\n",
       "      <td>1.000000</td>\n",
       "      <td>...</td>\n",
       "      <td>74.0</td>\n",
       "      <td>376.0</td>\n",
       "      <td>109.0</td>\n",
       "      <td>74.0</td>\n",
       "      <td>124.718922</td>\n",
       "      <td>0.486322</td>\n",
       "      <td>0.196809</td>\n",
       "      <td>0.289894</td>\n",
       "      <td>0.196809</td>\n",
       "      <td>0.682057</td>\n",
       "    </tr>\n",
       "  </tbody>\n",
       "</table>\n",
       "<p>3 rows × 52 columns</p>\n",
       "</div>"
      ],
      "text/plain": [
       "   index    sum_top  size_top  mean_top  min_top  max_top  median_top  \\\n",
       "0      0  77.546778       5.0      74.6     50.0    132.0        65.0   \n",
       "1      1  18.773234       1.0     202.0    202.0    202.0       202.0   \n",
       "2      2   8.515625       1.0     109.0    109.0    109.0       109.0   \n",
       "\n",
       "   mode_f_top    std_top  mean_perc_t_top  ...  min_all  max_all  median_all  \\\n",
       "0        65.0  32.761258         0.565152  ...     50.0    132.0        66.0   \n",
       "1       202.0   0.000000         1.000000  ...     40.0    269.0       109.0   \n",
       "2       109.0   0.000000         1.000000  ...     74.0    376.0       109.0   \n",
       "\n",
       "   mode_f_all     std_all  mean_perc_t_all  min_perc_t_all  median_perc_t_all  \\\n",
       "0        66.0   32.319757         0.607323        0.378788           0.500000   \n",
       "1       109.0   76.059370         0.444444        0.148699           0.405204   \n",
       "2        74.0  124.718922         0.486322        0.196809           0.289894   \n",
       "\n",
       "   mode_f_perc_t_all  std_perc_avg_all  \n",
       "0           0.500000          0.403157  \n",
       "1           0.405204          0.636184  \n",
       "2           0.196809          0.682057  \n",
       "\n",
       "[3 rows x 52 columns]"
      ]
     },
     "execution_count": 25,
     "metadata": {},
     "output_type": "execute_result"
    }
   ],
   "source": [
    "top_sites = get_stats(sites_df[sites_df['top_sites'] == True], '_top')\n",
    "med_sites = get_stats(sites_df[sites_df['med_sites'] == True], '_med')\n",
    "rare_sites = get_stats(sites_df[sites_df['rare_sites'] == True], '_rare')\n",
    "all_sites = get_stats(sites_df, '_all').drop(columns=['sum_all'])\n",
    "\n",
    "sites_stats_final = df[['index']].drop_duplicates()\\\n",
    ".merge(top_sites, on='index', how='left')\\\n",
    ".merge(med_sites, on='index', how='left')\\\n",
    ".merge(rare_sites, on='index', how='left')\\\n",
    ".merge(all_sites, on='index', how='left')\n",
    "\n",
    "sites_stats_final.fillna(0, inplace=True)\n",
    "sites_stats_final.head(3)"
   ]
  },
  {
   "cell_type": "markdown",
   "metadata": {},
   "source": [
    "> Comparison between positive class and negative class: which type of websites do they spend more time in"
   ]
  },
  {
   "cell_type": "code",
   "execution_count": 26,
   "metadata": {},
   "outputs": [
    {
     "data": {
      "image/png": "[encoded data removed]",
      "text/plain": [
       "<Figure size 432x288 with 2 Axes>"
      ]
     },
     "metadata": {},
     "output_type": "display_data"
    }
   ],
   "source": [
    "pos_values = sites_stats_final.loc[pos.index][['mean_top', 'mean_med', 'mean_rare']].mean().reset_index().to_numpy()\n",
    "positive = [i[0] for i in pos_values], [i[1] for i in pos_values]\n",
    "\n",
    "neg_values = sites_stats_final.loc[neg.index][['mean_top', 'mean_med', 'mean_rare']].mean().reset_index().to_numpy()\n",
    "negative = [i[0] for i in neg_values], [i[1] for i in neg_values]\n",
    "\n",
    "plot_classes_diff(positive, negative, 'Type of websites')"
   ]
  },
  {
   "cell_type": "markdown",
   "metadata": {},
   "source": [
    "> Joe usually spend his time on popular websites and rare ones. The other users tends to divide their time equally among top, medium and rare websites"
   ]
  },
  {
   "cell_type": "markdown",
   "metadata": {},
   "source": [
    "#### Dummies for websites visited\n",
    "\n",
    "> For each website out of the top20, indicates which percentage of the session time was spent visiting that site"
   ]
  },
  {
   "cell_type": "code",
   "execution_count": 27,
   "metadata": {},
   "outputs": [
    {
     "data": {
      "text/plain": [
       "array(['youtube.com', 'toptal.com', 'slack.com', 'lenta.ru', 'vk.com',\n",
       "       'mail.google.com', 'oracle.com', 'wikimedia.org', 'googleapis.com',\n",
       "       'vimeo.com', 'airbnb.com', 'geotrust.com', 'google.com',\n",
       "       'facebook.com', 'booking.com', 'live.com', 'cedexis.com',\n",
       "       'ggpht.com', 'baidu.com', 'googlevideo.com'], dtype=object)"
      ]
     },
     "execution_count": 27,
     "metadata": {},
     "output_type": "execute_result"
    }
   ],
   "source": [
    "top20 = sites_ranked.iloc[:20]['site'].unique()\n",
    "top20"
   ]
  },
  {
   "cell_type": "code",
   "execution_count": 28,
   "metadata": {},
   "outputs": [],
   "source": [
    "sites_df['site_top'] = 0\n",
    "power2 = 0.5\n",
    "for website in top20:\n",
    "    power2 = power2*2\n",
    "    # variable indicates amount of time spent on top website 'website'\n",
    "    sites_df.loc[sites_df['site'] == website, website] = sites_df['perc_length']\n",
    "    # site_top column indicates the website visited. afterwards we will sum and we will get a number\n",
    "    # that represents a combination of websites and we can infer which combinations are more frequent\n",
    "    sites_df.loc[sites_df['site'] == website, 'site_top'] = power2"
   ]
  },
  {
   "cell_type": "code",
   "execution_count": 29,
   "metadata": {},
   "outputs": [
    {
     "data": {
      "text/html": [
       "<div>\n",
       "<style scoped>\n",
       "    .dataframe tbody tr th:only-of-type {\n",
       "        vertical-align: middle;\n",
       "    }\n",
       "\n",
       "    .dataframe tbody tr th {\n",
       "        vertical-align: top;\n",
       "    }\n",
       "\n",
       "    .dataframe thead th {\n",
       "        text-align: right;\n",
       "    }\n",
       "</style>\n",
       "<table border=\"1\" class=\"dataframe\">\n",
       "  <thead>\n",
       "    <tr style=\"text-align: right;\">\n",
       "      <th></th>\n",
       "      <th>index</th>\n",
       "      <th>site_top</th>\n",
       "      <th>youtube.com</th>\n",
       "      <th>toptal.com</th>\n",
       "      <th>slack.com</th>\n",
       "      <th>lenta.ru</th>\n",
       "      <th>vk.com</th>\n",
       "      <th>mail.google.com</th>\n",
       "      <th>oracle.com</th>\n",
       "      <th>wikimedia.org</th>\n",
       "      <th>...</th>\n",
       "      <th>airbnb.com</th>\n",
       "      <th>geotrust.com</th>\n",
       "      <th>google.com</th>\n",
       "      <th>facebook.com</th>\n",
       "      <th>booking.com</th>\n",
       "      <th>live.com</th>\n",
       "      <th>cedexis.com</th>\n",
       "      <th>ggpht.com</th>\n",
       "      <th>baidu.com</th>\n",
       "      <th>googlevideo.com</th>\n",
       "    </tr>\n",
       "  </thead>\n",
       "  <tbody>\n",
       "    <tr>\n",
       "      <th>0</th>\n",
       "      <td>0</td>\n",
       "      <td>47.0</td>\n",
       "      <td>13.929314</td>\n",
       "      <td>27.442827</td>\n",
       "      <td>13.513514</td>\n",
       "      <td>12.266112</td>\n",
       "      <td>0.0</td>\n",
       "      <td>10.39501</td>\n",
       "      <td>0.0</td>\n",
       "      <td>0.0</td>\n",
       "      <td>...</td>\n",
       "      <td>0.0</td>\n",
       "      <td>0.0</td>\n",
       "      <td>0.0</td>\n",
       "      <td>0.0</td>\n",
       "      <td>0.0</td>\n",
       "      <td>0.00000</td>\n",
       "      <td>0.0</td>\n",
       "      <td>0.0</td>\n",
       "      <td>0.000000</td>\n",
       "      <td>0.0</td>\n",
       "    </tr>\n",
       "    <tr>\n",
       "      <th>1</th>\n",
       "      <td>1</td>\n",
       "      <td>1.0</td>\n",
       "      <td>18.773234</td>\n",
       "      <td>0.000000</td>\n",
       "      <td>0.000000</td>\n",
       "      <td>0.000000</td>\n",
       "      <td>0.0</td>\n",
       "      <td>0.00000</td>\n",
       "      <td>0.0</td>\n",
       "      <td>0.0</td>\n",
       "      <td>...</td>\n",
       "      <td>0.0</td>\n",
       "      <td>0.0</td>\n",
       "      <td>0.0</td>\n",
       "      <td>0.0</td>\n",
       "      <td>0.0</td>\n",
       "      <td>0.00000</td>\n",
       "      <td>0.0</td>\n",
       "      <td>0.0</td>\n",
       "      <td>0.000000</td>\n",
       "      <td>0.0</td>\n",
       "    </tr>\n",
       "    <tr>\n",
       "      <th>2</th>\n",
       "      <td>2</td>\n",
       "      <td>294913.0</td>\n",
       "      <td>8.515625</td>\n",
       "      <td>0.000000</td>\n",
       "      <td>0.000000</td>\n",
       "      <td>0.000000</td>\n",
       "      <td>0.0</td>\n",
       "      <td>0.00000</td>\n",
       "      <td>0.0</td>\n",
       "      <td>0.0</td>\n",
       "      <td>...</td>\n",
       "      <td>0.0</td>\n",
       "      <td>0.0</td>\n",
       "      <td>0.0</td>\n",
       "      <td>0.0</td>\n",
       "      <td>0.0</td>\n",
       "      <td>19.21875</td>\n",
       "      <td>0.0</td>\n",
       "      <td>0.0</td>\n",
       "      <td>7.421875</td>\n",
       "      <td>0.0</td>\n",
       "    </tr>\n",
       "  </tbody>\n",
       "</table>\n",
       "<p>3 rows × 22 columns</p>\n",
       "</div>"
      ],
      "text/plain": [
       "   index  site_top  youtube.com  toptal.com  slack.com   lenta.ru  vk.com  \\\n",
       "0      0      47.0    13.929314   27.442827  13.513514  12.266112     0.0   \n",
       "1      1       1.0    18.773234    0.000000   0.000000   0.000000     0.0   \n",
       "2      2  294913.0     8.515625    0.000000   0.000000   0.000000     0.0   \n",
       "\n",
       "   mail.google.com  oracle.com  wikimedia.org  ...  airbnb.com  geotrust.com  \\\n",
       "0         10.39501         0.0            0.0  ...         0.0           0.0   \n",
       "1          0.00000         0.0            0.0  ...         0.0           0.0   \n",
       "2          0.00000         0.0            0.0  ...         0.0           0.0   \n",
       "\n",
       "   google.com  facebook.com  booking.com  live.com  cedexis.com  ggpht.com  \\\n",
       "0         0.0           0.0          0.0   0.00000          0.0        0.0   \n",
       "1         0.0           0.0          0.0   0.00000          0.0        0.0   \n",
       "2         0.0           0.0          0.0  19.21875          0.0        0.0   \n",
       "\n",
       "   baidu.com  googlevideo.com  \n",
       "0   0.000000              0.0  \n",
       "1   0.000000              0.0  \n",
       "2   7.421875              0.0  \n",
       "\n",
       "[3 rows x 22 columns]"
      ]
     },
     "execution_count": 29,
     "metadata": {},
     "output_type": "execute_result"
    }
   ],
   "source": [
    "sites_dummies = sites_df[['index', 'site_top'] + list(top20)].groupby(['index']).sum().reset_index()\n",
    "sites_dummies.head(3)"
   ]
  },
  {
   "cell_type": "markdown",
   "metadata": {},
   "source": [
    "##### top combinations of sites\n",
    "> Find popular sites that are visited together and indicates if this combination of websites was present in the session\n",
    "\n",
    "> The combinations are indicated by a sum of power of 2. The dataframe below shows the combinations that appear the most"
   ]
  },
  {
   "cell_type": "code",
   "execution_count": 30,
   "metadata": {},
   "outputs": [
    {
     "data": {
      "text/html": [
       "<div>\n",
       "<style scoped>\n",
       "    .dataframe tbody tr th:only-of-type {\n",
       "        vertical-align: middle;\n",
       "    }\n",
       "\n",
       "    .dataframe tbody tr th {\n",
       "        vertical-align: top;\n",
       "    }\n",
       "\n",
       "    .dataframe thead th {\n",
       "        text-align: right;\n",
       "    }\n",
       "</style>\n",
       "<table border=\"1\" class=\"dataframe\">\n",
       "  <thead>\n",
       "    <tr style=\"text-align: right;\">\n",
       "      <th></th>\n",
       "      <th>site_top</th>\n",
       "      <th>perc_top_comb</th>\n",
       "    </tr>\n",
       "  </thead>\n",
       "  <tbody>\n",
       "    <tr>\n",
       "      <th>0</th>\n",
       "      <td>0.0</td>\n",
       "      <td>5.172912</td>\n",
       "    </tr>\n",
       "    <tr>\n",
       "      <th>59</th>\n",
       "      <td>63.0</td>\n",
       "      <td>2.385469</td>\n",
       "    </tr>\n",
       "    <tr>\n",
       "      <th>1</th>\n",
       "      <td>1.0</td>\n",
       "      <td>2.006105</td>\n",
       "    </tr>\n",
       "    <tr>\n",
       "      <th>556</th>\n",
       "      <td>131072.0</td>\n",
       "      <td>1.508661</td>\n",
       "    </tr>\n",
       "    <tr>\n",
       "      <th>62</th>\n",
       "      <td>66.0</td>\n",
       "      <td>1.248634</td>\n",
       "    </tr>\n",
       "    <tr>\n",
       "      <th>60</th>\n",
       "      <td>64.0</td>\n",
       "      <td>1.222254</td>\n",
       "    </tr>\n",
       "    <tr>\n",
       "      <th>21</th>\n",
       "      <td>21.0</td>\n",
       "      <td>1.172007</td>\n",
       "    </tr>\n",
       "    <tr>\n",
       "      <th>28</th>\n",
       "      <td>28.0</td>\n",
       "      <td>1.135579</td>\n",
       "    </tr>\n",
       "    <tr>\n",
       "      <th>260</th>\n",
       "      <td>8192.0</td>\n",
       "      <td>1.095381</td>\n",
       "    </tr>\n",
       "    <tr>\n",
       "      <th>322</th>\n",
       "      <td>16384.0</td>\n",
       "      <td>1.058952</td>\n",
       "    </tr>\n",
       "  </tbody>\n",
       "</table>\n",
       "</div>"
      ],
      "text/plain": [
       "     site_top  perc_top_comb\n",
       "0         0.0       5.172912\n",
       "59       63.0       2.385469\n",
       "1         1.0       2.006105\n",
       "556  131072.0       1.508661\n",
       "62       66.0       1.248634\n",
       "60       64.0       1.222254\n",
       "21       21.0       1.172007\n",
       "28       28.0       1.135579\n",
       "260    8192.0       1.095381\n",
       "322   16384.0       1.058952"
      ]
     },
     "execution_count": 30,
     "metadata": {},
     "output_type": "execute_result"
    }
   ],
   "source": [
    "top_combinations = sites_dummies[['index', 'site_top']].groupby('site_top').size().reset_index().sort_values(0, ascending=False)\n",
    "top_combinations['perc_top_comb'] = top_combinations[0]*100/sites_dummies.shape[0]\n",
    "\n",
    "# list with the most commom combinations of websites per session\n",
    "top_combinations_list = top_combinations.iloc[1:11][['site_top']]\n",
    "top_combinations_list.to_csv('top_combinations.csv', index=False)\n",
    "\n",
    "top_combinations.drop(columns=[0]).iloc[:10]"
   ]
  },
  {
   "cell_type": "code",
   "execution_count": 31,
   "metadata": {
    "scrolled": true
   },
   "outputs": [
    {
     "data": {
      "text/html": [
       "<div>\n",
       "<style scoped>\n",
       "    .dataframe tbody tr th:only-of-type {\n",
       "        vertical-align: middle;\n",
       "    }\n",
       "\n",
       "    .dataframe tbody tr th {\n",
       "        vertical-align: top;\n",
       "    }\n",
       "\n",
       "    .dataframe thead th {\n",
       "        text-align: right;\n",
       "    }\n",
       "</style>\n",
       "<table border=\"1\" class=\"dataframe\">\n",
       "  <thead>\n",
       "    <tr style=\"text-align: right;\">\n",
       "      <th></th>\n",
       "      <th>index</th>\n",
       "      <th>comb__1.0</th>\n",
       "      <th>comb__18.0</th>\n",
       "      <th>comb__21.0</th>\n",
       "      <th>comb__28.0</th>\n",
       "      <th>comb__63.0</th>\n",
       "      <th>comb__64.0</th>\n",
       "      <th>comb__66.0</th>\n",
       "      <th>comb__8192.0</th>\n",
       "      <th>comb__16384.0</th>\n",
       "      <th>comb__131072.0</th>\n",
       "    </tr>\n",
       "  </thead>\n",
       "  <tbody>\n",
       "    <tr>\n",
       "      <th>0</th>\n",
       "      <td>1</td>\n",
       "      <td>1</td>\n",
       "      <td>0</td>\n",
       "      <td>0</td>\n",
       "      <td>0</td>\n",
       "      <td>0</td>\n",
       "      <td>0</td>\n",
       "      <td>0</td>\n",
       "      <td>0</td>\n",
       "      <td>0</td>\n",
       "      <td>0</td>\n",
       "    </tr>\n",
       "    <tr>\n",
       "      <th>1</th>\n",
       "      <td>30</td>\n",
       "      <td>1</td>\n",
       "      <td>0</td>\n",
       "      <td>0</td>\n",
       "      <td>0</td>\n",
       "      <td>0</td>\n",
       "      <td>0</td>\n",
       "      <td>0</td>\n",
       "      <td>0</td>\n",
       "      <td>0</td>\n",
       "      <td>0</td>\n",
       "    </tr>\n",
       "    <tr>\n",
       "      <th>2</th>\n",
       "      <td>63</td>\n",
       "      <td>1</td>\n",
       "      <td>0</td>\n",
       "      <td>0</td>\n",
       "      <td>0</td>\n",
       "      <td>0</td>\n",
       "      <td>0</td>\n",
       "      <td>0</td>\n",
       "      <td>0</td>\n",
       "      <td>0</td>\n",
       "      <td>0</td>\n",
       "    </tr>\n",
       "  </tbody>\n",
       "</table>\n",
       "</div>"
      ],
      "text/plain": [
       "   index  comb__1.0  comb__18.0  comb__21.0  comb__28.0  comb__63.0  \\\n",
       "0      1          1           0           0           0           0   \n",
       "1     30          1           0           0           0           0   \n",
       "2     63          1           0           0           0           0   \n",
       "\n",
       "   comb__64.0  comb__66.0  comb__8192.0  comb__16384.0  comb__131072.0  \n",
       "0           0           0             0              0               0  \n",
       "1           0           0             0              0               0  \n",
       "2           0           0             0              0               0  "
      ]
     },
     "execution_count": 31,
     "metadata": {},
     "output_type": "execute_result"
    }
   ],
   "source": [
    "# users with sessions with top combinations\n",
    "user_top_comb = sites_dummies.merge(top_combinations_list, on=['site_top'], how='inner').set_index('index')\n",
    "\n",
    "# dummies for top combinations\n",
    "dummies_top_combinations = pd.get_dummies(user_top_comb['site_top'], prefix='comb_').reset_index()\n",
    "dummies_top_combinations.head(3)"
   ]
  },
  {
   "cell_type": "code",
   "execution_count": 32,
   "metadata": {},
   "outputs": [
    {
     "data": {
      "text/plain": [
       "(11022, 11)"
      ]
     },
     "execution_count": 32,
     "metadata": {},
     "output_type": "execute_result"
    }
   ],
   "source": [
    "dummies_top_combinations.shape"
   ]
  },
  {
   "cell_type": "markdown",
   "metadata": {},
   "source": [
    "### generate dataset for model\n",
    "\n",
    "> Aggregates all the previous information in order to generate the dataset to train the models"
   ]
  },
  {
   "cell_type": "code",
   "execution_count": 33,
   "metadata": {},
   "outputs": [
    {
     "data": {
      "text/html": [
       "<div>\n",
       "<style scoped>\n",
       "    .dataframe tbody tr th:only-of-type {\n",
       "        vertical-align: middle;\n",
       "    }\n",
       "\n",
       "    .dataframe tbody tr th {\n",
       "        vertical-align: top;\n",
       "    }\n",
       "\n",
       "    .dataframe thead th {\n",
       "        text-align: right;\n",
       "    }\n",
       "</style>\n",
       "<table border=\"1\" class=\"dataframe\">\n",
       "  <thead>\n",
       "    <tr style=\"text-align: right;\">\n",
       "      <th></th>\n",
       "      <th>index</th>\n",
       "      <th>sum_top</th>\n",
       "      <th>size_top</th>\n",
       "      <th>mean_top</th>\n",
       "      <th>min_top</th>\n",
       "      <th>max_top</th>\n",
       "      <th>median_top</th>\n",
       "      <th>mode_f_top</th>\n",
       "      <th>std_top</th>\n",
       "      <th>mean_perc_t_top</th>\n",
       "      <th>...</th>\n",
       "      <th>airbnb.com</th>\n",
       "      <th>geotrust.com</th>\n",
       "      <th>google.com</th>\n",
       "      <th>facebook.com</th>\n",
       "      <th>booking.com</th>\n",
       "      <th>live.com</th>\n",
       "      <th>cedexis.com</th>\n",
       "      <th>ggpht.com</th>\n",
       "      <th>baidu.com</th>\n",
       "      <th>googlevideo.com</th>\n",
       "    </tr>\n",
       "  </thead>\n",
       "  <tbody>\n",
       "    <tr>\n",
       "      <th>0</th>\n",
       "      <td>0</td>\n",
       "      <td>77.546778</td>\n",
       "      <td>5.0</td>\n",
       "      <td>74.6</td>\n",
       "      <td>50.0</td>\n",
       "      <td>132.0</td>\n",
       "      <td>65.0</td>\n",
       "      <td>65.0</td>\n",
       "      <td>32.761258</td>\n",
       "      <td>0.565152</td>\n",
       "      <td>...</td>\n",
       "      <td>0.0</td>\n",
       "      <td>0.0</td>\n",
       "      <td>0.0</td>\n",
       "      <td>0.0</td>\n",
       "      <td>0.0</td>\n",
       "      <td>0.00000</td>\n",
       "      <td>0.0</td>\n",
       "      <td>0.0</td>\n",
       "      <td>0.000000</td>\n",
       "      <td>0.0</td>\n",
       "    </tr>\n",
       "    <tr>\n",
       "      <th>1</th>\n",
       "      <td>1</td>\n",
       "      <td>18.773234</td>\n",
       "      <td>1.0</td>\n",
       "      <td>202.0</td>\n",
       "      <td>202.0</td>\n",
       "      <td>202.0</td>\n",
       "      <td>202.0</td>\n",
       "      <td>202.0</td>\n",
       "      <td>0.000000</td>\n",
       "      <td>1.000000</td>\n",
       "      <td>...</td>\n",
       "      <td>0.0</td>\n",
       "      <td>0.0</td>\n",
       "      <td>0.0</td>\n",
       "      <td>0.0</td>\n",
       "      <td>0.0</td>\n",
       "      <td>0.00000</td>\n",
       "      <td>0.0</td>\n",
       "      <td>0.0</td>\n",
       "      <td>0.000000</td>\n",
       "      <td>0.0</td>\n",
       "    </tr>\n",
       "    <tr>\n",
       "      <th>2</th>\n",
       "      <td>2</td>\n",
       "      <td>8.515625</td>\n",
       "      <td>1.0</td>\n",
       "      <td>109.0</td>\n",
       "      <td>109.0</td>\n",
       "      <td>109.0</td>\n",
       "      <td>109.0</td>\n",
       "      <td>109.0</td>\n",
       "      <td>0.000000</td>\n",
       "      <td>1.000000</td>\n",
       "      <td>...</td>\n",
       "      <td>0.0</td>\n",
       "      <td>0.0</td>\n",
       "      <td>0.0</td>\n",
       "      <td>0.0</td>\n",
       "      <td>0.0</td>\n",
       "      <td>19.21875</td>\n",
       "      <td>0.0</td>\n",
       "      <td>0.0</td>\n",
       "      <td>7.421875</td>\n",
       "      <td>0.0</td>\n",
       "    </tr>\n",
       "  </tbody>\n",
       "</table>\n",
       "<p>3 rows × 85 columns</p>\n",
       "</div>"
      ],
      "text/plain": [
       "   index    sum_top  size_top  mean_top  min_top  max_top  median_top  \\\n",
       "0      0  77.546778       5.0      74.6     50.0    132.0        65.0   \n",
       "1      1  18.773234       1.0     202.0    202.0    202.0       202.0   \n",
       "2      2   8.515625       1.0     109.0    109.0    109.0       109.0   \n",
       "\n",
       "   mode_f_top    std_top  mean_perc_t_top  ...  airbnb.com  geotrust.com  \\\n",
       "0        65.0  32.761258         0.565152  ...         0.0           0.0   \n",
       "1       202.0   0.000000         1.000000  ...         0.0           0.0   \n",
       "2       109.0   0.000000         1.000000  ...         0.0           0.0   \n",
       "\n",
       "   google.com  facebook.com  booking.com  live.com  cedexis.com  ggpht.com  \\\n",
       "0         0.0           0.0          0.0   0.00000          0.0        0.0   \n",
       "1         0.0           0.0          0.0   0.00000          0.0        0.0   \n",
       "2         0.0           0.0          0.0  19.21875          0.0        0.0   \n",
       "\n",
       "   baidu.com  googlevideo.com  \n",
       "0   0.000000              0.0  \n",
       "1   0.000000              0.0  \n",
       "2   7.421875              0.0  \n",
       "\n",
       "[3 rows x 85 columns]"
      ]
     },
     "execution_count": 33,
     "metadata": {},
     "output_type": "execute_result"
    }
   ],
   "source": [
    "data = sites_stats_final\\\n",
    ".merge(df[['index', 'isJoe', 'hour']], on='index', how='inner').set_index('index')\\\n",
    ".merge(dummies_top_combinations, on=['index'], how='left')\\\n",
    ".merge(sites_dummies, on=['index'], how='left')\\\n",
    ".fillna(0)\n",
    "\n",
    "data.head(3)"
   ]
  },
  {
   "cell_type": "code",
   "execution_count": 34,
   "metadata": {},
   "outputs": [
    {
     "data": {
      "text/plain": [
       "(80000, 85)"
      ]
     },
     "execution_count": 34,
     "metadata": {},
     "output_type": "execute_result"
    }
   ],
   "source": [
    "data.shape"
   ]
  },
  {
   "cell_type": "code",
   "execution_count": 35,
   "metadata": {},
   "outputs": [],
   "source": [
    "cols_session = list(set(data.columns) - set(['isJoe']))"
   ]
  },
  {
   "cell_type": "code",
   "execution_count": 36,
   "metadata": {},
   "outputs": [
    {
     "data": {
      "text/html": [
       "<div>\n",
       "<style scoped>\n",
       "    .dataframe tbody tr th:only-of-type {\n",
       "        vertical-align: middle;\n",
       "    }\n",
       "\n",
       "    .dataframe tbody tr th {\n",
       "        vertical-align: top;\n",
       "    }\n",
       "\n",
       "    .dataframe thead th {\n",
       "        text-align: right;\n",
       "    }\n",
       "</style>\n",
       "<table border=\"1\" class=\"dataframe\">\n",
       "  <thead>\n",
       "    <tr style=\"text-align: right;\">\n",
       "      <th></th>\n",
       "      <th>browser__Chrome</th>\n",
       "      <th>browser__Firefox</th>\n",
       "      <th>browser__Internet Explorer</th>\n",
       "      <th>browser__Safari</th>\n",
       "      <th>os__Debian</th>\n",
       "      <th>os__MacOS</th>\n",
       "      <th>os__Ubuntu</th>\n",
       "      <th>os__Windows 10</th>\n",
       "      <th>os__Windows 7</th>\n",
       "      <th>os__Windows 8</th>\n",
       "      <th>...</th>\n",
       "      <th>Country__Italy</th>\n",
       "      <th>Country__Japan</th>\n",
       "      <th>Country__Malaysia</th>\n",
       "      <th>Country__Netherlands</th>\n",
       "      <th>Country__New Zealand</th>\n",
       "      <th>Country__Russia</th>\n",
       "      <th>Country__Singapore</th>\n",
       "      <th>Country__Spain</th>\n",
       "      <th>Country__UK</th>\n",
       "      <th>Country__USA</th>\n",
       "    </tr>\n",
       "    <tr>\n",
       "      <th>index</th>\n",
       "      <th></th>\n",
       "      <th></th>\n",
       "      <th></th>\n",
       "      <th></th>\n",
       "      <th></th>\n",
       "      <th></th>\n",
       "      <th></th>\n",
       "      <th></th>\n",
       "      <th></th>\n",
       "      <th></th>\n",
       "      <th></th>\n",
       "      <th></th>\n",
       "      <th></th>\n",
       "      <th></th>\n",
       "      <th></th>\n",
       "      <th></th>\n",
       "      <th></th>\n",
       "      <th></th>\n",
       "      <th></th>\n",
       "      <th></th>\n",
       "      <th></th>\n",
       "    </tr>\n",
       "  </thead>\n",
       "  <tbody>\n",
       "    <tr>\n",
       "      <th>0</th>\n",
       "      <td>0</td>\n",
       "      <td>1</td>\n",
       "      <td>0</td>\n",
       "      <td>0</td>\n",
       "      <td>0</td>\n",
       "      <td>0</td>\n",
       "      <td>1</td>\n",
       "      <td>0</td>\n",
       "      <td>0</td>\n",
       "      <td>0</td>\n",
       "      <td>...</td>\n",
       "      <td>0</td>\n",
       "      <td>0</td>\n",
       "      <td>0</td>\n",
       "      <td>0</td>\n",
       "      <td>0</td>\n",
       "      <td>0</td>\n",
       "      <td>0</td>\n",
       "      <td>0</td>\n",
       "      <td>0</td>\n",
       "      <td>1</td>\n",
       "    </tr>\n",
       "    <tr>\n",
       "      <th>1</th>\n",
       "      <td>0</td>\n",
       "      <td>1</td>\n",
       "      <td>0</td>\n",
       "      <td>0</td>\n",
       "      <td>0</td>\n",
       "      <td>0</td>\n",
       "      <td>0</td>\n",
       "      <td>0</td>\n",
       "      <td>0</td>\n",
       "      <td>1</td>\n",
       "      <td>...</td>\n",
       "      <td>0</td>\n",
       "      <td>0</td>\n",
       "      <td>0</td>\n",
       "      <td>0</td>\n",
       "      <td>0</td>\n",
       "      <td>0</td>\n",
       "      <td>0</td>\n",
       "      <td>0</td>\n",
       "      <td>0</td>\n",
       "      <td>1</td>\n",
       "    </tr>\n",
       "    <tr>\n",
       "      <th>2</th>\n",
       "      <td>1</td>\n",
       "      <td>0</td>\n",
       "      <td>0</td>\n",
       "      <td>0</td>\n",
       "      <td>0</td>\n",
       "      <td>0</td>\n",
       "      <td>1</td>\n",
       "      <td>0</td>\n",
       "      <td>0</td>\n",
       "      <td>0</td>\n",
       "      <td>...</td>\n",
       "      <td>0</td>\n",
       "      <td>0</td>\n",
       "      <td>0</td>\n",
       "      <td>0</td>\n",
       "      <td>0</td>\n",
       "      <td>0</td>\n",
       "      <td>1</td>\n",
       "      <td>0</td>\n",
       "      <td>0</td>\n",
       "      <td>0</td>\n",
       "    </tr>\n",
       "    <tr>\n",
       "      <th>3</th>\n",
       "      <td>1</td>\n",
       "      <td>0</td>\n",
       "      <td>0</td>\n",
       "      <td>0</td>\n",
       "      <td>0</td>\n",
       "      <td>0</td>\n",
       "      <td>0</td>\n",
       "      <td>1</td>\n",
       "      <td>0</td>\n",
       "      <td>0</td>\n",
       "      <td>...</td>\n",
       "      <td>0</td>\n",
       "      <td>0</td>\n",
       "      <td>0</td>\n",
       "      <td>0</td>\n",
       "      <td>0</td>\n",
       "      <td>0</td>\n",
       "      <td>0</td>\n",
       "      <td>0</td>\n",
       "      <td>0</td>\n",
       "      <td>0</td>\n",
       "    </tr>\n",
       "    <tr>\n",
       "      <th>4</th>\n",
       "      <td>0</td>\n",
       "      <td>1</td>\n",
       "      <td>0</td>\n",
       "      <td>0</td>\n",
       "      <td>0</td>\n",
       "      <td>0</td>\n",
       "      <td>0</td>\n",
       "      <td>1</td>\n",
       "      <td>0</td>\n",
       "      <td>0</td>\n",
       "      <td>...</td>\n",
       "      <td>0</td>\n",
       "      <td>0</td>\n",
       "      <td>0</td>\n",
       "      <td>0</td>\n",
       "      <td>0</td>\n",
       "      <td>0</td>\n",
       "      <td>0</td>\n",
       "      <td>0</td>\n",
       "      <td>0</td>\n",
       "      <td>1</td>\n",
       "    </tr>\n",
       "  </tbody>\n",
       "</table>\n",
       "<p>5 rows × 54 columns</p>\n",
       "</div>"
      ],
      "text/plain": [
       "       browser__Chrome  browser__Firefox  browser__Internet Explorer  \\\n",
       "index                                                                  \n",
       "0                    0                 1                           0   \n",
       "1                    0                 1                           0   \n",
       "2                    1                 0                           0   \n",
       "3                    1                 0                           0   \n",
       "4                    0                 1                           0   \n",
       "\n",
       "       browser__Safari  os__Debian  os__MacOS  os__Ubuntu  os__Windows 10  \\\n",
       "index                                                                       \n",
       "0                    0           0          0           1               0   \n",
       "1                    0           0          0           0               0   \n",
       "2                    0           0          0           1               0   \n",
       "3                    0           0          0           0               1   \n",
       "4                    0           0          0           0               1   \n",
       "\n",
       "       os__Windows 7  os__Windows 8  ...  Country__Italy  Country__Japan  \\\n",
       "index                                ...                                   \n",
       "0                  0              0  ...               0               0   \n",
       "1                  0              1  ...               0               0   \n",
       "2                  0              0  ...               0               0   \n",
       "3                  0              0  ...               0               0   \n",
       "4                  0              0  ...               0               0   \n",
       "\n",
       "       Country__Malaysia  Country__Netherlands  Country__New Zealand  \\\n",
       "index                                                                  \n",
       "0                      0                     0                     0   \n",
       "1                      0                     0                     0   \n",
       "2                      0                     0                     0   \n",
       "3                      0                     0                     0   \n",
       "4                      0                     0                     0   \n",
       "\n",
       "       Country__Russia  Country__Singapore  Country__Spain  Country__UK  \\\n",
       "index                                                                     \n",
       "0                    0                   0               0            0   \n",
       "1                    0                   0               0            0   \n",
       "2                    0                   1               0            0   \n",
       "3                    0                   0               0            0   \n",
       "4                    0                   0               0            0   \n",
       "\n",
       "       Country__USA  \n",
       "index                \n",
       "0                 1  \n",
       "1                 1  \n",
       "2                 0  \n",
       "3                 0  \n",
       "4                 1  \n",
       "\n",
       "[5 rows x 54 columns]"
      ]
     },
     "execution_count": 36,
     "metadata": {},
     "output_type": "execute_result"
    }
   ],
   "source": [
    "browser_dummies = pd.get_dummies(df.set_index('index')[['browser', 'os', 'gender', 'locale', 'Country']], prefix=['browser_', 'os_', 'gender_', 'locale_', 'Country_'])\n",
    "browser_dummies.head(5)"
   ]
  },
  {
   "cell_type": "code",
   "execution_count": 37,
   "metadata": {},
   "outputs": [],
   "source": [
    "data = data\\\n",
    ".merge(browser_dummies, on=['index'], how='left')\\\n",
    ".fillna(0)"
   ]
  },
  {
   "cell_type": "code",
   "execution_count": 38,
   "metadata": {},
   "outputs": [
    {
     "data": {
      "text/plain": [
       "(80000, 139)"
      ]
     },
     "execution_count": 38,
     "metadata": {},
     "output_type": "execute_result"
    }
   ],
   "source": [
    "data.shape"
   ]
  },
  {
   "cell_type": "markdown",
   "metadata": {},
   "source": [
    "### Modeling\n",
    "\n",
    "**Features**\n",
    "> When exploring the variables, it was possible to see that Joe has some very distinctive characteristics, for instance: it was always male gender, only used 2 browsers, only one type of locale. So the characteristics of the session could be useful features in this classification problem.\n",
    ">> Another possible approach could be to use the session data only and identify Joe just by the way he browses. This option is more robust to an unexpected behavior, for instance Joe browsing in a different city.\n",
    "Here both approaches were tested and the one that performed better was the one with browser information.\n",
    "\n",
    "> The client can have relevant information to help guide what is the best approach, but in this first report, the option was to keep the browser and location information.\n",
    "\n",
    "**Class inbalance and model selection**\n",
    "> This dataset has an inbalance in the classes. Class inbalance is problematic because it can lead to a model that performs poorly on the minority class (in this project: isJoe = 1). In this project, the Balance Random Forest Classifier from the imbalanced-learn library was used. This class implements data resampling on the bootstrap sample in order to change the class distribution, and allow us to work with a balance dataset in each tree. Undersapling the majority class can be problematic because it can lead to lost of information, but Random Forest reduces the impact of this because of bootstrapping technique in random forest, in which each tree uses a subset of the information available and because there are many trees, different parts of the data are being used.\n",
    "\n",
    "**Evaluation**\n",
    "> The evaluation metric used was F1 score. This metric combines recall and precision metrics into one.\n",
    "- **Recall** is the fraction of the total amount of relevant instances that were actually retrieved, in this project would be the fraction of the Joe sessions that were correctly found.\n",
    "- **Precision** is the fraction of relevant instances among the retrieved instances, in this project: out of all the sessions labeled Joe by te model, which fraction was actually Joe's.\n",
    "\n",
    "> In this project, because there are so many instances of not Joe sessions, even a tiny fraction of mistakes in classifying them would influence in the precision of positive class. **Example**: we have 1000 sessions, 995 of them are non Joe and 5 are Joe's. If the classifier gets the notJoe correct 95% of the time, would say that 50 sessions that are not from Joe is his. And if it get all the Joe's right, it would say that 55 sessions are Joe's, when actually just 5 are. So it wasn't precise. On the other hand in this group of 55, all of Joe sessions were there, so the recall is high.\n",
    "\n",
    "> Depending on the problem, precision or recall can be more important and it could also be discussed with the client. Here, the goal was to have a high recall while also trying to have a good precision"
   ]
  },
  {
   "cell_type": "code",
   "execution_count": 39,
   "metadata": {},
   "outputs": [],
   "source": [
    "y = data.pop('isJoe')\n",
    "\n",
    "x = data[cols_session]\n",
    "x_train, x_validation, y_train, y_validation = train_test_split(x, y, test_size = 0.15, random_state=2)\n",
    "\n",
    "# info about browser and gender\n",
    "x_b = data\n",
    "x_train_b, x_validation_b, y_train_b, y_validation_b = train_test_split(x_b, y, test_size = 0.15, random_state=2)"
   ]
  },
  {
   "cell_type": "code",
   "execution_count": 40,
   "metadata": {},
   "outputs": [],
   "source": [
    "def train_get_features(scoring, x_train, y_train, x_validation, y_validation, tag):\n",
    "    \n",
    "    params = {'n_estimators'     : [50   ,  100, 150],\n",
    "              'min_samples_split': [0.015, 0.05, 0.1],\n",
    "              'max_features'     : [0.3  ,  0.5, 0.7] }\n",
    "    \n",
    "    \n",
    "    grid_r = GridSearchCV(BalancedRandomForestClassifier(random_state=10),\n",
    "                          param_grid = params,        \n",
    "                          scoring    = scoring,\n",
    "                          n_jobs     = -1,\n",
    "                          cv         = 9,\n",
    "                          verbose    = True)\n",
    "    \n",
    "    \n",
    "    grid_r.fit(x_train, y_train)\n",
    "    print(grid_r.best_params_)\n",
    "\n",
    "    best_model = grid_r.best_estimator_\n",
    "    best_score = grid_r.best_score_\n",
    "\n",
    "    print('\\n\\n{}\\n'.format(tag))\n",
    "    print('\\nScore training  :\\n\\t- {}: {}\\n'.format(scoring, best_score))\n",
    "\n",
    "    y_predict = best_model.predict(x_validation)\n",
    "    \n",
    "    print('\\nScore validation:')\n",
    "    precision, recall, fscore, support = precision_recall_fscore_support(y_validation, y_predict, average=None)\n",
    "    print('\\n\\t- precision        : {}'.format(precision))\n",
    "    print('\\n\\t- recall           : {}'.format(recall))\n",
    "    print('\\n\\t- fscore           : {}'.format(fscore))\n",
    "    print('\\n\\t- support          : {}'.format(support))\n",
    "\n",
    "    # features df\n",
    "    features_list = []\n",
    "    for i in range(0, len(best_model.feature_importances_)):\n",
    "        l = x_train.columns[i]\n",
    "        v = best_model.feature_importances_[i]\n",
    "        features_list.append([l, v])\n",
    "    features_df = pd.DataFrame(features_list, columns=['feature', 'importance'])\n",
    "    \n",
    "    return features_df.sort_values('importance', ascending=False), best_model, y_validation, y_predict"
   ]
  },
  {
   "cell_type": "markdown",
   "metadata": {},
   "source": [
    "#### Models without the browser features\n",
    "\n",
    "\n",
    "This model uses f1 score"
   ]
  },
  {
   "cell_type": "code",
   "execution_count": 41,
   "metadata": {},
   "outputs": [
    {
     "name": "stdout",
     "output_type": "stream",
     "text": [
      "Fitting 9 folds for each of 27 candidates, totalling 243 fits\n"
     ]
    },
    {
     "name": "stderr",
     "output_type": "stream",
     "text": [
      "[Parallel(n_jobs=-1)]: Using backend LokyBackend with 8 concurrent workers.\n",
      "[Parallel(n_jobs=-1)]: Done  34 tasks      | elapsed:   34.5s\n",
      "[Parallel(n_jobs=-1)]: Done 184 tasks      | elapsed:  3.2min\n",
      "[Parallel(n_jobs=-1)]: Done 243 out of 243 | elapsed:  4.3min finished\n"
     ]
    },
    {
     "name": "stdout",
     "output_type": "stream",
     "text": [
      "{'max_features': 0.7, 'min_samples_split': 0.1, 'n_estimators': 100}\n",
      "\n",
      "\n",
      "NO BROWSER\n",
      "\n",
      "\n",
      "Score training  :\n",
      "\t- f1: 0.128333021882557\n",
      "\n",
      "\n",
      "Score validation:\n",
      "\n",
      "\t- precision        : [0.99892348 0.06096131]\n",
      "\n",
      "\t- recall           : [0.93289209 0.8125    ]\n",
      "\n",
      "\t- fscore           : [0.96477927 0.1134133 ]\n",
      "\n",
      "\t- support          : [11936    64]\n"
     ]
    }
   ],
   "source": [
    "# f1 score without the browser features\n",
    "features_df, best_model, y, y_p = train_get_features('f1', x_train, y_train, x_validation, y_validation, 'NO BROWSER')"
   ]
  },
  {
   "cell_type": "markdown",
   "metadata": {},
   "source": [
    "> The model had precision of 6.1% for the positive class and 99.9% for the negative one, that means that almost every session it classified as not Joe as not Joe indeed, on the other hand, only 6.7% of the session that were classified as Joe's were actually his. Recall of both classes was high: over 81% of the Joe's sessions were retrieved"
   ]
  },
  {
   "cell_type": "markdown",
   "metadata": {},
   "source": [
    "For comparison, we also optimized for recall metric"
   ]
  },
  {
   "cell_type": "code",
   "execution_count": 42,
   "metadata": {},
   "outputs": [
    {
     "name": "stdout",
     "output_type": "stream",
     "text": [
      "Fitting 9 folds for each of 27 candidates, totalling 243 fits\n"
     ]
    },
    {
     "name": "stderr",
     "output_type": "stream",
     "text": [
      "[Parallel(n_jobs=-1)]: Using backend LokyBackend with 8 concurrent workers.\n",
      "[Parallel(n_jobs=-1)]: Done  34 tasks      | elapsed:   31.7s\n",
      "[Parallel(n_jobs=-1)]: Done 184 tasks      | elapsed:  3.6min\n",
      "[Parallel(n_jobs=-1)]: Done 243 out of 243 | elapsed:  4.7min finished\n"
     ]
    },
    {
     "name": "stdout",
     "output_type": "stream",
     "text": [
      "{'max_features': 0.7, 'min_samples_split': 0.015, 'n_estimators': 150}\n",
      "\n",
      "\n",
      "NO BROWSER\n",
      "\n",
      "\n",
      "Score training  :\n",
      "\t- recall: 0.9672040461514145\n",
      "\n",
      "\n",
      "Score validation:\n",
      "\n",
      "\t- precision        : [0.99936697 0.06050955]\n",
      "\n",
      "\t- recall           : [0.92585456 0.890625  ]\n",
      "\n",
      "\t- fscore           : [0.96120727 0.11332008]\n",
      "\n",
      "\t- support          : [11936    64]\n"
     ]
    }
   ],
   "source": [
    "# recall score without the browser features\n",
    "features_df, best_model, y, y_p = train_get_features('recall', x_train, y_train, x_validation, y_validation, 'NO BROWSER')"
   ]
  },
  {
   "cell_type": "markdown",
   "metadata": {},
   "source": [
    "> The model had precision of 6% for the positive class and 99.9% for the negative one. Precision didn't change much compared to the previous model, but the recall did: 89% of the Joe's sessions were retrieved.\n",
    "\n",
    "> This model seems to be a better choice than previous one, but the precision is still low"
   ]
  },
  {
   "cell_type": "markdown",
   "metadata": {},
   "source": [
    "#### Models WITH the browser features\n",
    "\n",
    "These models has information of the browser and location of the user, not only the session information as the previous one.\n",
    "\n",
    "\n",
    "> THe best model was the one optimized for f1 score. The models were also optimized for recall, but the result was not as good as this model. Below we can see the results.\n",
    "\n",
    "\n",
    "> The f1 score model had precision of 11.6% for the positive class and 100% for the negative one. Comparing to the previous models, precision increased: now all the sessions with the negative label were indeed negative and precision for positive class moved from 5.8% to 11.6%.\n",
    "\n",
    "> Recall also improved: from 89% to 100% for the positive class and 96% for the negative one.\n",
    "\n",
    "> This is the best model: all the Joe's of the validation set were retrieved and every session classified as not Joe was not Joe indeed."
   ]
  },
  {
   "cell_type": "markdown",
   "metadata": {},
   "source": [
    "##### RECALL"
   ]
  },
  {
   "cell_type": "code",
   "execution_count": 43,
   "metadata": {},
   "outputs": [
    {
     "name": "stdout",
     "output_type": "stream",
     "text": [
      "Fitting 9 folds for each of 27 candidates, totalling 243 fits\n"
     ]
    },
    {
     "name": "stderr",
     "output_type": "stream",
     "text": [
      "[Parallel(n_jobs=-1)]: Using backend LokyBackend with 8 concurrent workers.\n",
      "[Parallel(n_jobs=-1)]: Done  34 tasks      | elapsed:   36.5s\n",
      "[Parallel(n_jobs=-1)]: Done 184 tasks      | elapsed:  3.8min\n",
      "[Parallel(n_jobs=-1)]: Done 243 out of 243 | elapsed:  5.0min finished\n"
     ]
    },
    {
     "name": "stdout",
     "output_type": "stream",
     "text": [
      "{'max_features': 0.3, 'min_samples_split': 0.015, 'n_estimators': 50}\n",
      "\n",
      "\n",
      "WITH BROWSER\n",
      "\n",
      "\n",
      "Score training  :\n",
      "\t- recall: 1.0\n",
      "\n",
      "\n",
      "Score validation:\n",
      "\n",
      "\t- precision        : [0.99991266 0.11433757]\n",
      "\n",
      "\t- recall           : [0.95911528 0.984375  ]\n",
      "\n",
      "\t- fscore           : [0.97908916 0.20487805]\n",
      "\n",
      "\t- support          : [11936    64]\n"
     ]
    }
   ],
   "source": [
    "# recall score WITH the browser features\n",
    "features_df, best_model, y, y_p = train_get_features('recall', x_train_b, y_train_b, x_validation_b, y_validation_b, 'WITH BROWSER')"
   ]
  },
  {
   "cell_type": "markdown",
   "metadata": {},
   "source": [
    "##### F1 score"
   ]
  },
  {
   "cell_type": "code",
   "execution_count": 44,
   "metadata": {},
   "outputs": [
    {
     "name": "stdout",
     "output_type": "stream",
     "text": [
      "Fitting 9 folds for each of 27 candidates, totalling 243 fits\n"
     ]
    },
    {
     "name": "stderr",
     "output_type": "stream",
     "text": [
      "[Parallel(n_jobs=-1)]: Using backend LokyBackend with 8 concurrent workers.\n",
      "[Parallel(n_jobs=-1)]: Done  34 tasks      | elapsed:   38.0s\n",
      "[Parallel(n_jobs=-1)]: Done 184 tasks      | elapsed:  3.7min\n",
      "[Parallel(n_jobs=-1)]: Done 243 out of 243 | elapsed:  4.9min finished\n"
     ]
    },
    {
     "name": "stdout",
     "output_type": "stream",
     "text": [
      "{'max_features': 0.7, 'min_samples_split': 0.015, 'n_estimators': 50}\n",
      "\n",
      "\n",
      "WITH BROWSER\n",
      "\n",
      "\n",
      "Score training  :\n",
      "\t- f1: 0.19902294779779572\n",
      "\n",
      "\n",
      "Score validation:\n",
      "\n",
      "\t- precision        : [1.         0.11594203]\n",
      "\n",
      "\t- recall           : [0.95911528 1.        ]\n",
      "\n",
      "\t- fscore           : [0.97913103 0.20779221]\n",
      "\n",
      "\t- support          : [11936    64]\n"
     ]
    }
   ],
   "source": [
    "# f1 score WITH the browser features\n",
    "features_df, best_model, y, y_p = train_get_features('f1', x_train_b, y_train_b, x_validation_b, y_validation_b, 'WITH BROWSER')"
   ]
  },
  {
   "cell_type": "code",
   "execution_count": 50,
   "metadata": {},
   "outputs": [
    {
     "data": {
      "text/html": [
       "<div>\n",
       "<style scoped>\n",
       "    .dataframe tbody tr th:only-of-type {\n",
       "        vertical-align: middle;\n",
       "    }\n",
       "\n",
       "    .dataframe tbody tr th {\n",
       "        vertical-align: top;\n",
       "    }\n",
       "\n",
       "    .dataframe thead th {\n",
       "        text-align: right;\n",
       "    }\n",
       "</style>\n",
       "<table border=\"1\" class=\"dataframe\">\n",
       "  <thead>\n",
       "    <tr style=\"text-align: right;\">\n",
       "      <th></th>\n",
       "      <th>feature</th>\n",
       "      <th>importance</th>\n",
       "    </tr>\n",
       "  </thead>\n",
       "  <tbody>\n",
       "    <tr>\n",
       "      <th>114</th>\n",
       "      <td>locale__ru_RU</td>\n",
       "      <td>0.806276</td>\n",
       "    </tr>\n",
       "    <tr>\n",
       "      <th>2</th>\n",
       "      <td>size_top</td>\n",
       "      <td>0.067233</td>\n",
       "    </tr>\n",
       "    <tr>\n",
       "      <th>67</th>\n",
       "      <td>lenta.ru</td>\n",
       "      <td>0.014031</td>\n",
       "    </tr>\n",
       "  </tbody>\n",
       "</table>\n",
       "</div>"
      ],
      "text/plain": [
       "           feature  importance\n",
       "114  locale__ru_RU    0.806276\n",
       "2         size_top    0.067233\n",
       "67        lenta.ru    0.014031"
      ]
     },
     "execution_count": 50,
     "metadata": {},
     "output_type": "execute_result"
    }
   ],
   "source": [
    "features_df.iloc[:3]"
   ]
  },
  {
   "cell_type": "markdown",
   "metadata": {},
   "source": [
    "> The most important features of the selected model was indication if locale is ru_RU or not (Joe only uses ru_RU), number of popular websites in the session; indication of the percentage of time spent on lenta.ru website (joe frequents this website a lot)"
   ]
  },
  {
   "cell_type": "markdown",
   "metadata": {},
   "source": [
    "### Exporting the model"
   ]
  },
  {
   "cell_type": "code",
   "execution_count": 45,
   "metadata": {},
   "outputs": [],
   "source": [
    "# saving the model\n",
    "with open('model.pickle', 'wb') as handle:\n",
    "    pickle.dump(best_model, handle, protocol=pickle.HIGHEST_PROTOCOL)"
   ]
  }
 ],
 "metadata": {
  "kernelspec": {
   "display_name": "Python 3",
   "language": "python",
   "name": "python3"
  },
  "language_info": {
   "codemirror_mode": {
    "name": "ipython",
    "version": 3
   },
   "file_extension": ".py",
   "mimetype": "text/x-python",
   "name": "python",
   "nbconvert_exporter": "python",
   "pygments_lexer": "ipython3",
   "version": "3.7.7"
  },
  "toc": {
   "base_numbering": 1,
   "nav_menu": {},
   "number_sections": true,
   "sideBar": true,
   "skip_h1_title": false,
   "title_cell": "Table of Contents",
   "title_sidebar": "Contents",
   "toc_cell": false,
   "toc_position": {
    "height": "calc(100% - 180px)",
    "left": "10px",
    "top": "150px",
    "width": "384px"
   },
   "toc_section_display": true,
   "toc_window_display": true
  }
 },
 "nbformat": 4,
 "nbformat_minor": 4
}
